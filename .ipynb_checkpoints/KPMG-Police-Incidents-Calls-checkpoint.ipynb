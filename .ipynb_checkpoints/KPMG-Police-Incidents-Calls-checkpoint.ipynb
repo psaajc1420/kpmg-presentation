{
 "cells": [
  {
   "cell_type": "code",
   "execution_count": 6,
   "metadata": {},
   "outputs": [
    {
     "name": "stdout",
     "output_type": "stream",
     "text": [
      "    Crime Id Original Crime Type Name          Report Date  \\\n",
      "0  160942891          Muni Inspection  2016-04-03T00:00:00   \n",
      "1  160930487                      913  2016-04-02T00:00:00   \n",
      "2  160941602             Passing Call  2016-04-03T00:00:00   \n",
      "3  160922392             Passing Call  2016-04-01T00:00:00   \n",
      "4  160923170     Threats / Harassment  2016-04-01T00:00:00   \n",
      "\n",
      "             Call Date         Offense Date Call Time       Call Date Time  \\\n",
      "0  2016-04-03T00:00:00  2016-04-03T00:00:00     18:15  2016-04-03T18:15:00   \n",
      "1  2016-04-02T00:00:00  2016-04-02T00:00:00     03:55  2016-04-02T03:55:00   \n",
      "2  2016-04-03T00:00:00  2016-04-03T00:00:00     11:49  2016-04-03T11:49:00   \n",
      "3  2016-04-01T00:00:00  2016-04-01T00:00:00     16:09  2016-04-01T16:09:00   \n",
      "4  2016-04-01T00:00:00  2016-04-01T00:00:00     19:11  2016-04-01T19:11:00   \n",
      "\n",
      "    Disposition                  Address           City State  Agency Id  \\\n",
      "0  Not recorded    900 Block Of Ulloa St  San Francisco    CA          1   \n",
      "1           HAN        Folsom St/13th St  San Francisco    CA          1   \n",
      "2           HAN  2900 Block Of Taylor St  San Francisco    CA          1   \n",
      "3  Not recorded  1100 Block Of Market St  San Francisco    CA          1   \n",
      "4           NOM         26th Av/geary Bl  San Francisco    CA          1   \n",
      "\n",
      "      Address Type        Common Location  \n",
      "0  Common Location   West Portal Muni, Sf  \n",
      "1     Intersection                    NaN  \n",
      "2  Common Location   Fishermans Wharf, Sf  \n",
      "3  Common Location  Civic Center Muni, Sf  \n",
      "4     Intersection                    NaN  \n"
     ]
    }
   ],
   "source": [
    "# Imports\n",
    "\n",
    "import numpy as np\n",
    "import pandas as pd\n",
    "\n",
    "from keras.models import Sequential\n",
    "from keras.layers import Dense\n",
    "\n",
    "\n",
    "# Keras Implentation\n",
    "def keras_implementation():\n",
    "\n",
    "    dataset = pd.read_csv(\"~/.datasets/police-department-calls-for-service.csv\")\n",
    "\n",
    "    print(dataset['Address Type'].unique())\n",
    "#     model = Sequential()\n",
    "\n",
    "#     model.add(Dense(units=64, activation='relu', input_dim=100))\n",
    "#     model.add(Dense(units=10, activation='softmax'))\n",
    "\n",
    "#     model.fit(x_train, y_train, epochs=5, batch_size=32)\n",
    "\n",
    "#     classes = model.predict(x_test, batch_size=128)\n",
    "\n",
    "\n",
    "\n",
    "keras_implementation()"
   ]
  },
  {
   "cell_type": "code",
   "execution_count": null,
   "metadata": {},
   "outputs": [],
   "source": []
  },
  {
   "cell_type": "code",
   "execution_count": null,
   "metadata": {},
   "outputs": [],
   "source": []
  }
 ],
 "metadata": {
  "kernelspec": {
   "display_name": "Python 3",
   "language": "python",
   "name": "python3"
  },
  "language_info": {
   "codemirror_mode": {
    "name": "ipython",
    "version": 3
   },
   "file_extension": ".py",
   "mimetype": "text/x-python",
   "name": "python",
   "nbconvert_exporter": "python",
   "pygments_lexer": "ipython3",
   "version": "3.6.3"
  }
 },
 "nbformat": 4,
 "nbformat_minor": 2
}
